{
 "cells": [
  {
   "cell_type": "markdown",
   "id": "8644b49a-46f2-4d99-9448-5b3167bd2590",
   "metadata": {},
   "source": [
    "# Data Science Tools and Ecosystem #\n"
   ]
  },
  {
   "cell_type": "markdown",
   "id": "22742aa1-d2d8-403e-afb9-731ca9817fa5",
   "metadata": {},
   "source": [
    "#### In this notebook, Data Science Tools and Ecosystem are summarized. ####"
   ]
  },
  {
   "cell_type": "markdown",
   "id": "a260c757-c96c-44dc-9ace-78d808262c54",
   "metadata": {},
   "source": [
    "#### Some of the popular languages that Data Scientists use are: ####\n",
    " 1. Python. \n",
    " 2. R.\n",
    " 3. C++.\n"
   ]
  },
  {
   "cell_type": "markdown",
   "id": "573831dc-432b-40e2-b7f9-b842e1d678ae",
   "metadata": {},
   "source": [
    "#### Some of the commonly used libraries used by Data Scientists include:\n",
    "1. Pandas.\n",
    "2. NumPy.\n",
    "3. TensorFlow.\n",
    "4. Sickit-learn.\n",
    "5. Pytorch.\n",
    "   "
   ]
  },
  {
   "cell_type": "markdown",
   "id": "8ec2288c-6db4-4a65-91b3-de23c4176756",
   "metadata": {},
   "source": [
    "## __Objectives:__ ##"
   ]
  },
  {
   "cell_type": "markdown",
   "id": "e0885484-0fe8-4d96-a11e-caf9411c9058",
   "metadata": {},
   "source": [
    "* R as a statistical programming languange and RStudio as an IDE for R. \n",
    "* Git and Github as code asset management tool."
   ]
  },
  {
   "cell_type": "markdown",
   "id": "aed7f090-0d97-47de-932d-354584aca482",
   "metadata": {},
   "source": [
    "| Data Science Tools |\n",
    "|:------------------:|\n",
    "| Jupyter Notebook |\n",
    "| Spyder |\n",
    "| Microsoft VS |\n"
   ]
  },
  {
   "cell_type": "markdown",
   "id": "90bb32e7-c532-4171-a994-96e01e1188c4",
   "metadata": {},
   "source": [
    "### Below are a few examples of evaluating arithmetic expressions in Python ###"
   ]
  },
  {
   "cell_type": "markdown",
   "id": "a8514896-24db-4296-9b5f-5f036ed1f404",
   "metadata": {},
   "source": [
    "#### This a simple arithmetic expression to mutiply then add integers: ####"
   ]
  },
  {
   "cell_type": "code",
   "execution_count": 2,
   "id": "3312a9c1-ab81-4a72-9a8b-a696140fb5f8",
   "metadata": {},
   "outputs": [
    {
     "data": {
      "text/plain": [
       "17"
      ]
     },
     "execution_count": 2,
     "metadata": {},
     "output_type": "execute_result"
    }
   ],
   "source": [
    "(3*4)+5"
   ]
  },
  {
   "cell_type": "markdown",
   "id": "5283fc6d-6306-459f-a3cb-02a64e18a485",
   "metadata": {},
   "source": [
    "#### This will convert 200 minutes to hours by diving by 60 ####\n"
   ]
  },
  {
   "cell_type": "code",
   "execution_count": 3,
   "id": "524b3c8f-4858-4680-85a4-a06638a1690e",
   "metadata": {},
   "outputs": [
    {
     "data": {
      "text/plain": [
       "3.3333333333333335"
      ]
     },
     "execution_count": 3,
     "metadata": {},
     "output_type": "execute_result"
    }
   ],
   "source": [
    "200/60"
   ]
  },
  {
   "cell_type": "markdown",
   "id": "aed57eaa-bb02-4fc9-b5ef-3aebca09d78c",
   "metadata": {},
   "source": [
    "## Author ##\n",
    "Itamar Amir "
   ]
  }
 ],
 "metadata": {
  "kernelspec": {
   "display_name": "Python 3 (ipykernel)",
   "language": "python",
   "name": "python3"
  },
  "language_info": {
   "codemirror_mode": {
    "name": "ipython",
    "version": 3
   },
   "file_extension": ".py",
   "mimetype": "text/x-python",
   "name": "python",
   "nbconvert_exporter": "python",
   "pygments_lexer": "ipython3",
   "version": "3.11.7"
  }
 },
 "nbformat": 4,
 "nbformat_minor": 5
}
